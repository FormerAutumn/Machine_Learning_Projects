{
 "cells": [
  {
   "cell_type": "code",
   "execution_count": 11,
   "metadata": {},
   "outputs": [],
   "source": [
    "import numpy as np\n",
    "import matplotlib.pyplot as plt\n",
    "import cv2\n",
    "import scipy.io as sio\n",
    "from sklearn import metrics\n",
    "from sklearn.discriminant_analysis import LinearDiscriminantAnalysis\n",
    "from sklearn.decomposition import PCA\n",
    "\n",
    "%matplotlib inline\n",
    "plt.rcParams['figure.figsize'] = (10.0, 8.0) # set default size of plots\n",
    "plt.rcParams['image.interpolation'] = 'nearest'\n",
    "plt.rcParams['image.cmap'] = 'gray'"
   ]
  },
  {
   "cell_type": "code",
   "execution_count": 12,
   "metadata": {},
   "outputs": [],
   "source": [
    "#the cmp of two-keys-sort\n",
    "def by_dis(t):\n",
    "    return t[0]"
   ]
  },
  {
   "cell_type": "code",
   "execution_count": 13,
   "metadata": {},
   "outputs": [],
   "source": [
    "'''\n",
    "    RET:\n",
    "        dataset: the initial data (1024,1)\n",
    "        label_true: the true label\n",
    "'''\n",
    "\n",
    "def LoadData( url, feas, labels ):\n",
    "    \n",
    "    _dataset = sio.loadmat( url )\n",
    "    dataset = _dataset[feas]\n",
    "    label_true = _dataset[labels]\n",
    "    return dataset, label_true"
   ]
  },
  {
   "cell_type": "code",
   "execution_count": 14,
   "metadata": {},
   "outputs": [],
   "source": [
    "'''\n",
    "    RET:\n",
    "        dis: the distance between vec_a and vec_b\n",
    "'''\n",
    "\n",
    "def CalcDist( vec_a, vec_b ):\n",
    "    \n",
    "    dis = np.sqrt( np.sum( (vec_a-vec_b)**2 ) )\n",
    "    return dis"
   ]
  },
  {
   "cell_type": "code",
   "execution_count": 15,
   "metadata": {},
   "outputs": [],
   "source": [
    "'''\n",
    "    fisher for 2 datasets\n",
    "    dataset_class: dictionary of dataset (key=label, val=dataset)\n",
    "    u_class: dictionary of means (key=label, val=u)\n",
    "'''\n",
    "\n",
    "def LDA_2_AimD( dataset, label_true, aim_d ):\n",
    "    \n",
    "    n = len(dataset)\n",
    "    #print(\"dataset shape:\", dataset.shape)\n",
    "    \n",
    "    #get the label for classify\n",
    "    label = []\n",
    "    for i in label_true:\n",
    "        label.append( i[0] )\n",
    "    label = np.array( label )\n",
    "    #print(\"label shape:\", label.shape)\n",
    "    label = list( set(label) )\n",
    "    \n",
    "    #merge the same_label samples, store them into a dictionary\n",
    "    dataset_class = {}\n",
    "    for i in label:\n",
    "        nw_data = np.array( [ dataset[j] for j in range(n) if label_true[j] == i ] )\n",
    "        dataset_class[i] = nw_data\n",
    "    \n",
    "    u = np.mean( dataset, axis = 0 )\n",
    "    u_class = {}\n",
    "    \n",
    "    for i in label:\n",
    "        u_class[i] = np.mean( dataset_class[i], axis = 0 )\n",
    "    \n",
    "    St = np.zeros( (len(u),len(u)) )\n",
    "    St = np.dot( ( dataset - u ).T, (dataset - u) )\n",
    "    #print(\"St shape:\", St.shape)\n",
    "    \n",
    "    Sw = np.zeros( (len(u),len(u)) )\n",
    "    for i in label:\n",
    "        Sw += np.dot( (dataset_class[i]-u_class[i]).T, (dataset_class[i]-u_class[i]) )\n",
    "    #print(\"Sw shape:\", Sw.shape)\n",
    "    \n",
    "    Sb = np.zeros( (len(u),len(u)) )\n",
    "    Sb = St - Sw\n",
    "    #print(\"Sb shape:\",Sb.shape)\n",
    "    \n",
    "    eig_vals, eig_vecs = np.linalg.eig( np.dot( np.linalg.pinv(Sw), Sb ) )\n",
    "\n",
    "    sorted_indices = np.argsort( eig_vals )\n",
    "    W = eig_vecs[ :, sorted_indices[:-aim_d-1:-1] ]\n",
    "    \n",
    "    feaset = []\n",
    "    for i in range(n):\n",
    "        feaset.append( np.dot(dataset[i], W) )\n",
    "    return feaset, Sb, Sw, W, dataset_class, u_class\n",
    "    "
   ]
  },
  {
   "cell_type": "code",
   "execution_count": 16,
   "metadata": {},
   "outputs": [],
   "source": [
    "'''\n",
    "    aim_d: the top aim_d featrue\n",
    "    RET:\n",
    "        feaset: the featrue for each sample after lda\n",
    "'''\n",
    "\n",
    "def GetFea( dataset, label_true, aim_d, model = 1 ):\n",
    "    \n",
    "    if model == 1:\n",
    "        X = dataset\n",
    "        y = np.array( [ i[0] for i in label_true ] )\n",
    "        #lda\n",
    "        '''\n",
    "        lda = LinearDiscriminantAnalysis( n_components = aim_d )\n",
    "        lda.fit( X, y )\n",
    "        feaset = lda.transform( X )\n",
    "        '''\n",
    "        pca = PCA( n_components = aim_d )\n",
    "        pca.fit( X )\n",
    "        feaset = pca.fit_transform( X )\n",
    "    elif model == 0:\n",
    "        feaset, Sb, Sw, W, dataset_class, u_class = LDA_2_AimD( dataset, label_true, aim_d )\n",
    "\n",
    "    return feaset"
   ]
  },
  {
   "cell_type": "code",
   "execution_count": 17,
   "metadata": {},
   "outputs": [],
   "source": [
    "'''\n",
    "    k = 7 means the k(17)nn\n",
    "    The KNN function\n",
    "    RET:\n",
    "        \n",
    "'''\n",
    "\n",
    "def KNN( feaset, label_true, k = 7 ):\n",
    "    \n",
    "    n = len(feaset)\n",
    "    label_pred = np.zeros(n)\n",
    "    st_dis = []\n",
    "    st_clu = []\n",
    "    \n",
    "    for i in range(n):\n",
    "        \n",
    "        i2each_dis = []\n",
    "        \n",
    "        for j in range(n):\n",
    "            \n",
    "            if i == j:\n",
    "                continue\n",
    "            nwdis = CalcDist( feaset[i], feaset[j] )\n",
    "            i2each_dis.append( nwdis )\n",
    "        \n",
    "        i2each_dis = np.array( i2each_dis )\n",
    "        i2each_dis_ind = np.argsort( i2each_dis )\n",
    "        \n",
    "        sm_dis = []\n",
    "        sm_clu = []\n",
    "        vote_result = {}\n",
    "\n",
    "        for j in range(k):\n",
    "            sm_dis.append( i2each_dis[ i2each_dis_ind[j] ])\n",
    "            tp_label = label_true[ i2each_dis_ind[j] ]\n",
    "            sm_clu.append( tp_label )\n",
    "            vote_result[tp_label[0]] = vote_result.get( tp_label[0], 0 ) + 1\n",
    "        \n",
    "        st_dis.append( sm_dis )\n",
    "        st_clu.append( sm_clu )\n",
    "        label_pred[i] = max( vote_result, key=vote_result.get )\n",
    "        \n",
    "    return label_pred, st_dis, st_clu"
   ]
  },
  {
   "cell_type": "code",
   "execution_count": 18,
   "metadata": {},
   "outputs": [],
   "source": [
    "def ARI( label_true, label_pred ):\n",
    "    ratio = metrics.adjusted_rand_score( label_true.ravel(), label_pred.ravel() )\n",
    "    return ratio"
   ]
  },
  {
   "cell_type": "code",
   "execution_count": 19,
   "metadata": {},
   "outputs": [],
   "source": [
    "def Accuracy( _label_true, _label_pred ):\n",
    "    fm = len(_label_true)\n",
    "    fz = 0\n",
    "    for i in range(len(_label_true)):\n",
    "        if _label_true[i] == _label_pred[i]:\n",
    "            fz += 1\n",
    "    ratio = fz / fm\n",
    "    return ratio"
   ]
  },
  {
   "cell_type": "code",
   "execution_count": 20,
   "metadata": {},
   "outputs": [],
   "source": [
    "def main( url, feas, labels ):\n",
    "    \n",
    "    aim_d = 32\n",
    "    dataset, label_true = LoadData( url, feas, labels )\n",
    "    \n",
    "    for mode in range(2):\n",
    "        tp_y = []\n",
    "        for aim_d in X_axis:\n",
    "            feaset = GetFea( dataset, label_true, aim_d, 0 )\n",
    "            label_pred, st_dis, st_clu = KNN( feaset, label_true )\n",
    "            ratio = Accuracy( label_true, label_pred )\n",
    "            tp_y.append(ratio)\n",
    "        Y_axis[mode] = tp_y\n",
    "        \n",
    "    return dataset, label_true, label_pred, st_dis, st_clu"
   ]
  },
  {
   "cell_type": "code",
   "execution_count": 21,
   "metadata": {},
   "outputs": [
    {
     "name": "stdout",
     "output_type": "stream",
     "text": [
      "[1, 2, 3, 4, 5, 6, 7, 8, 9, 10, 11, 12, 13, 14]\n"
     ]
    }
   ],
   "source": [
    "urls = [ 'data/COIL20.mat', 'data/Yale_32x32.mat' ]\n",
    "feas = [ 'fea' ]\n",
    "labels = [ 'gnd' ]\n",
    "\n",
    "_data, _label = LoadData( urls[1], feas[0], labels[0] )\n",
    "mxc = max( _label )[0]\n",
    "\n",
    "Y_axis = {}\n",
    "X_axis = [ i for i in range(1,mxc)]\n",
    "print(X_axis)\n",
    "\n",
    "dataset, label_true, label_pred, st_dis, st_clu = main( urls[1], feas[0], labels[0] )"
   ]
  },
  {
   "cell_type": "code",
   "execution_count": 12,
   "metadata": {},
   "outputs": [
    {
     "name": "stdout",
     "output_type": "stream",
     "text": [
      "[1, 2, 3, 4, 5, 6, 7, 8, 9, 10, 11, 12, 13, 14]\n",
      "[0.3515151515151515, 0.5818181818181818, 0.6545454545454545, 0.7878787878787878, 0.8606060606060606, 0.8727272727272727, 0.9212121212121213, 0.9333333333333333, 0.9454545454545454, 0.9575757575757575, 0.9575757575757575, 0.9575757575757575, 0.9575757575757575, 0.9575757575757575]\n",
      "[0.16363636363636364, 0.24242424242424243, 0.3151515151515151, 0.4, 0.49696969696969695, 0.5515151515151515, 0.5272727272727272, 0.5454545454545454, 0.5575757575757576, 0.5818181818181818, 0.5575757575757576, 0.5696969696969697, 0.5818181818181818, 0.6181818181818182]\n"
     ]
    }
   ],
   "source": [
    "print(X_axis)\n",
    "print(Y_axis[0])\n",
    "print(Y_axis[1])"
   ]
  },
  {
   "cell_type": "code",
   "execution_count": 12,
   "metadata": {},
   "outputs": [],
   "source": [
    "def Draw_result( X_axis, Y_axis ):\n",
    "    plt.plot( Y_axis[0], c='red', label='LDA' )\n",
    "    plt.plot( Y_axis[1], c='blue', label='PCA' )\n",
    "    plt.xlabel('n-component for LDA/PCA')\n",
    "    plt.xticks(range(-1,len(X_axis)+5))\n",
    "    plt.ylabel('Accuracy')\n",
    "    plt.legend()\n",
    "    plt.show()"
   ]
  },
  {
   "cell_type": "code",
   "execution_count": 13,
   "metadata": {},
   "outputs": [
    {
     "name": "stdout",
     "output_type": "stream",
     "text": [
      "The data/Yale_32x32.mat result.\n"
     ]
    },
    {
     "data": {
      "image/png": "[encoded data removed]",
      "text/plain": [
       "<Figure size 432x288 with 1 Axes>"
      ]
     },
     "metadata": {},
     "output_type": "display_data"
    }
   ],
   "source": [
    "print(\"The {} result.\".format( urls[1] ) )\n",
    "Draw_result( X_axis, Y_axis )"
   ]
  },
  {
   "cell_type": "code",
   "execution_count": 22,
   "metadata": {},
   "outputs": [
    {
     "data": {
      "image/png": "[encoded data removed]",
      "text/plain": [
       "<Figure size 720x576 with 1 Axes>"
      ]
     },
     "metadata": {},
     "output_type": "display_data"
    }
   ],
   "source": [
    "XX = [ i for i in range(1,len(_data)+1) ]\n",
    "YY = label_pred\n",
    "\n",
    "plt.scatter( XX, YY, c='b' )\n",
    "plt.xlabel('dataset')\n",
    "plt.ylabel('cluster')\n",
    "plt.show()"
   ]
  },
  {
   "cell_type": "code",
   "execution_count": 11,
   "metadata": {},
   "outputs": [
    {
     "name": "stdout",
     "output_type": "stream",
     "text": [
      "0 [1] 1.0\n",
      "1 [1] 1.0\n",
      "2 [1] 1.0\n",
      "3 [1] 1.0\n",
      "4 [1] 1.0\n",
      "5 [1] 1.0\n",
      "6 [1] 1.0\n",
      "7 [1] 1.0\n",
      "8 [1] 1.0\n",
      "9 [1] 1.0\n",
      "10 [1] 1.0\n",
      "11 [1] 1.0\n",
      "12 [1] 1.0\n",
      "13 [1] 1.0\n",
      "14 [1] 1.0\n",
      "15 [1] 1.0\n",
      "16 [1] 1.0\n",
      "17 [1] 1.0\n",
      "18 [1] 1.0\n",
      "19 [1] 1.0\n",
      "20 [1] 1.0\n",
      "21 [1] 1.0\n",
      "22 [1] 1.0\n",
      "23 [1] 1.0\n",
      "24 [1] 1.0\n",
      "25 [1] 1.0\n",
      "26 [1] 1.0\n",
      "27 [1] 1.0\n",
      "28 [1] 1.0\n",
      "29 [1] 1.0\n",
      "30 [1] 1.0\n",
      "31 [1] 1.0\n",
      "32 [1] 1.0\n",
      "33 [1] 1.0\n",
      "34 [1] 1.0\n",
      "35 [1] 1.0\n",
      "36 [1] 1.0\n",
      "37 [1] 1.0\n",
      "38 [1] 1.0\n",
      "39 [1] 1.0\n",
      "40 [1] 1.0\n",
      "41 [1] 1.0\n",
      "42 [1] 1.0\n",
      "43 [1] 1.0\n",
      "44 [1] 1.0\n",
      "45 [1] 1.0\n",
      "46 [1] 1.0\n",
      "47 [1] 1.0\n",
      "48 [1] 1.0\n",
      "49 [1] 1.0\n",
      "50 [1] 1.0\n",
      "51 [1] 1.0\n",
      "52 [1] 1.0\n",
      "53 [1] 1.0\n",
      "54 [1] 1.0\n",
      "55 [1] 1.0\n",
      "56 [1] 1.0\n",
      "57 [1] 1.0\n",
      "58 [1] 1.0\n",
      "59 [1] 1.0\n",
      "60 [1] 1.0\n",
      "61 [1] 1.0\n",
      "62 [1] 1.0\n",
      "63 [1] 1.0\n",
      "64 [1] 1.0\n",
      "65 [1] 1.0\n",
      "66 [1] 1.0\n",
      "67 [1] 1.0\n",
      "68 [1] 1.0\n",
      "69 [1] 1.0\n",
      "70 [1] 1.0\n",
      "71 [1] 1.0\n",
      "72 [2] 2.0\n",
      "73 [2] 2.0\n",
      "74 [2] 2.0\n",
      "75 [2] 2.0\n",
      "76 [2] 2.0\n",
      "77 [2] 2.0\n",
      "78 [2] 2.0\n",
      "79 [2] 2.0\n",
      "80 [2] 2.0\n",
      "81 [2] 2.0\n",
      "82 [2] 2.0\n",
      "83 [2] 2.0\n",
      "84 [2] 2.0\n",
      "85 [2] 2.0\n",
      "86 [2] 2.0\n",
      "87 [2] 2.0\n",
      "88 [2] 2.0\n",
      "89 [2] 2.0\n",
      "90 [2] 2.0\n",
      "91 [2] 2.0\n",
      "92 [2] 2.0\n",
      "93 [2] 2.0\n",
      "94 [2] 2.0\n",
      "95 [2] 2.0\n",
      "96 [2] 2.0\n",
      "97 [2] 2.0\n",
      "98 [2] 2.0\n",
      "99 [2] 2.0\n",
      "100 [2] 2.0\n",
      "101 [2] 2.0\n",
      "102 [2] 2.0\n",
      "103 [2] 2.0\n",
      "104 [2] 2.0\n",
      "105 [2] 2.0\n",
      "106 [2] 2.0\n",
      "107 [2] 2.0\n",
      "108 [2] 2.0\n",
      "109 [2] 2.0\n",
      "110 [2] 2.0\n",
      "111 [2] 2.0\n",
      "112 [2] 2.0\n",
      "113 [2] 2.0\n",
      "114 [2] 2.0\n",
      "115 [2] 2.0\n",
      "116 [2] 2.0\n",
      "117 [2] 2.0\n",
      "118 [2] 2.0\n",
      "119 [2] 2.0\n",
      "120 [2] 2.0\n",
      "121 [2] 2.0\n",
      "122 [2] 2.0\n",
      "123 [2] 2.0\n",
      "124 [2] 2.0\n",
      "125 [2] 2.0\n",
      "126 [2] 2.0\n",
      "127 [2] 2.0\n",
      "128 [2] 2.0\n",
      "129 [2] 2.0\n",
      "130 [2] 2.0\n",
      "131 [2] 2.0\n",
      "132 [2] 2.0\n",
      "133 [2] 2.0\n",
      "134 [2] 2.0\n",
      "135 [2] 2.0\n",
      "136 [2] 2.0\n",
      "137 [2] 2.0\n",
      "138 [2] 2.0\n",
      "139 [2] 2.0\n",
      "140 [2] 2.0\n",
      "141 [2] 2.0\n",
      "142 [2] 2.0\n",
      "143 [2] 2.0\n",
      "0\n"
     ]
    }
   ],
   "source": [
    "nwct = 0\n",
    "for i in range(lower_b, upper_b):\n",
    "    pas = i - lower_b\n",
    "    if label_true[i] != label_pred[i]:\n",
    "        nwct += 1\n",
    "    print(pas, label_true[pas], label_pred[pas])\n",
    "print(nwct)"
   ]
  },
  {
   "cell_type": "code",
   "execution_count": 5,
   "metadata": {},
   "outputs": [
    {
     "name": "stdout",
     "output_type": "stream",
     "text": [
      "[1, 2, 3, 4, 5, 6, 7, 8, 9, 10, 15]\n"
     ]
    }
   ],
   "source": [
    "_a = list(np.arange(1,10)) + list(np.arange(10,20,5))\n",
    "print(_a)"
   ]
  },
  {
   "cell_type": "code",
   "execution_count": null,
   "metadata": {},
   "outputs": [],
   "source": []
  }
 ],
 "metadata": {
  "kernelspec": {
   "display_name": "Python 3",
   "language": "python",
   "name": "python3"
  },
  "language_info": {
   "codemirror_mode": {
    "name": "ipython",
    "version": 3
   },
   "file_extension": ".py",
   "mimetype": "text/x-python",
   "name": "python",
   "nbconvert_exporter": "python",
   "pygments_lexer": "ipython3",
   "version": "3.6.5"
  }
 },
 "nbformat": 4,
 "nbformat_minor": 2
}
