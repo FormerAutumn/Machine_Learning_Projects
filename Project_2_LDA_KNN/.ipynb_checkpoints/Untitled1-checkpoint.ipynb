{
 "cells": [
  {
   "cell_type": "code",
   "execution_count": 1,
   "metadata": {},
   "outputs": [],
   "source": [
    "import numpy as np\n",
    "import matplotlib.pyplot as plt\n",
    "import cv2\n",
    "import scipy.io as sio\n",
    "from sklearn import metrics\n",
    "from sklearn.discriminant_analysis import LinearDiscriminantAnalysis\n",
    "from sklearn.datasets import load_iris\n",
    "\n",
    "%matplotlib inline\n",
    "plt.rcParams['figure.figsize'] = (10.0, 8.0) # set default size of plots\n",
    "plt.rcParams['image.interpolation'] = 'nearest'\n",
    "plt.rcParams['image.cmap'] = 'gray'"
   ]
  },
  {
   "cell_type": "code",
   "execution_count": 9,
   "metadata": {},
   "outputs": [],
   "source": [
    "'''\n",
    "    fisher for 2 datasets\n",
    "    dataset_class: dictionary of dataset (key=label, val=dataset)\n",
    "    u_class: dictionary of means (key=label, val=u)\n",
    "'''\n",
    "\n",
    "def LDA_2_aimd( dataset, label_true, aim_d ):\n",
    "    \n",
    "    n = len(dataset)\n",
    "    print(\"dataset shape:\", dataset.shape)\n",
    "    \n",
    "    #get the label for classify\n",
    "    label = []\n",
    "    for i in label_true:\n",
    "        label.append( i[0] )\n",
    "    label = np.array( label )\n",
    "    print(\"label shape:\", label.shape)\n",
    "    label = list( set(label) )\n",
    "    \n",
    "    #merge the same_label samples, store them into a dictionary\n",
    "    dataset_class = {}\n",
    "    for i in label:\n",
    "        nw_data = np.array( [ dataset[j] for j in range(n) if label_true[j] == i ] )\n",
    "        dataset_class[i] = nw_data\n",
    "    \n",
    "    u = np.mean( dataset, axis = 0 )\n",
    "    u_class = {}\n",
    "    \n",
    "    for i in label:\n",
    "        u_class[i] = np.mean( dataset_class[i], axis = 0 )\n",
    "    \n",
    "    St = np.zeros( (len(u),len(u)) )\n",
    "    St = np.dot( ( dataset - u ).T, (dataset - u) )\n",
    "    print(\"St shape:\", St.shape)\n",
    "    \n",
    "    Sw = np.zeros( (len(u),len(u)) )\n",
    "    for i in label:\n",
    "        Sw += np.dot( (dataset_class[i]-u_class[i]).T, (dataset_class[i]-u_class[i]) )\n",
    "    print(\"Sw shape:\", Sw.shape)\n",
    "    \n",
    "    Sb = np.zeros( (len(u),len(u)) )\n",
    "    Sb = St - Sw\n",
    "    print(\"Sb shape:\",Sb.shape)\n",
    "    \n",
    "    eig_vals, eig_vecs = np.linalg.eig( np.dot( np.linalg.pinv(Sw), Sb ) )\n",
    "\n",
    "    sorted_indices = np.argsort( eig_vals )\n",
    "    W = eig_vecs[ :, sorted_indices[:-aim_d-1:-1] ]\n",
    "    \n",
    "    feaset = []\n",
    "    for i in range(n):\n",
    "        feaset.append( np.dot(dataset[i], W) )\n",
    "    return feaset, Sb, Sw, W, dataset_class, u_class"
   ]
  },
  {
   "cell_type": "code",
   "execution_count": 3,
   "metadata": {},
   "outputs": [],
   "source": [
    "url = 'data/COIL20.mat'\n",
    "dataset = sio.loadmat(url)\n",
    "num1 = 72\n",
    "num2 = 72\n",
    "__dataset = dataset['fea'][216:216+num1]\n",
    "label_true = dataset['gnd'][216+num1:216+num1+num2]"
   ]
  },
  {
   "cell_type": "code",
   "execution_count": 10,
   "metadata": {},
   "outputs": [
    {
     "name": "stdout",
     "output_type": "stream",
     "text": [
      "dataset shape: (72, 1024)\n",
      "label shape: (72,)\n",
      "St shape: (1024, 1024)\n",
      "Sw shape: (1024, 1024)\n",
      "Sb shape: (1024, 1024)\n"
     ]
    }
   ],
   "source": [
    "aim_d = 32\n",
    "feaset, Sb, Sw, W, dataset_calss, u_class = LDA_2_aimd( __dataset, label_true, aim_d )"
   ]
  },
  {
   "cell_type": "code",
   "execution_count": 13,
   "metadata": {},
   "outputs": [
    {
     "name": "stdout",
     "output_type": "stream",
     "text": [
      "(8.269912490720877+0j)\n"
     ]
    }
   ],
   "source": []
  },
  {
   "cell_type": "code",
   "execution_count": 41,
   "metadata": {},
   "outputs": [
    {
     "name": "stdout",
     "output_type": "stream",
     "text": [
      "(150, 4)\n",
      "(150,)\n"
     ]
    }
   ],
   "source": [
    "iris = load_iris()\n",
    "X = iris.data\n",
    "y = iris.target\n",
    "print(X.shape)\n",
    "print(y.shape)"
   ]
  },
  {
   "cell_type": "code",
   "execution_count": 11,
   "metadata": {},
   "outputs": [
    {
     "name": "stdout",
     "output_type": "stream",
     "text": [
      "(144, 1)\n"
     ]
    },
    {
     "name": "stderr",
     "output_type": "stream",
     "text": [
      "D:\\Anaconda3\\lib\\site-packages\\sklearn\\discriminant_analysis.py:388: UserWarning: Variables are collinear.\n",
      "  warnings.warn(\"Variables are collinear.\")\n"
     ]
    }
   ],
   "source": [
    "lda = LinearDiscriminantAnalysis( n_components = 32 )\n",
    "X = __dataset\n",
    "y = np.array( [ i[0] for i in label_true ] )\n",
    "lda.fit( X, y )\n",
    "X_new = lda.transform( X )\n",
    "print(X_new.shape)"
   ]
  },
  {
   "cell_type": "code",
   "execution_count": null,
   "metadata": {},
   "outputs": [],
   "source": []
  }
 ],
 "metadata": {
  "kernelspec": {
   "display_name": "Python 3",
   "language": "python",
   "name": "python3"
  },
  "language_info": {
   "codemirror_mode": {
    "name": "ipython",
    "version": 3
   },
   "file_extension": ".py",
   "mimetype": "text/x-python",
   "name": "python",
   "nbconvert_exporter": "python",
   "pygments_lexer": "ipython3",
   "version": "3.6.5"
  }
 },
 "nbformat": 4,
 "nbformat_minor": 2
}
