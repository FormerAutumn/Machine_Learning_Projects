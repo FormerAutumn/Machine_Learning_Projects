{
 "cells": [
  {
   "cell_type": "code",
   "execution_count": 31,
   "metadata": {},
   "outputs": [],
   "source": [
    "import numpy as np\n",
    "import matplotlib.pyplot as plt\n",
    "import cv2\n",
    "import scipy.io as sio\n",
    "import sklearn\n",
    "from sklearn.cluster import KMeans\n",
    "from sklearn.decomposition import PCA\n",
    "\n",
    "%matplotlib inline\n",
    "plt.rcParams['figure.figsize'] = (10.0, 8.0) # set default size of plots\n",
    "plt.rcParams['image.interpolation'] = 'nearest'\n",
    "plt.rcParams['image.cmap'] = 'gray'"
   ]
  },
  {
   "cell_type": "code",
   "execution_count": 2,
   "metadata": {},
   "outputs": [],
   "source": [
    "def LoadData( path ):\n",
    "    \n",
    "    _mat = sio.loadmat( path )\n",
    "    keys = list( _mat.keys() )\n",
    "    dataset = _mat['fea']\n",
    "    n = dataset.shape[0]\n",
    "    k = _mat['gnd']\n",
    "    k = np.max( k )\n",
    "    \n",
    "    img_mat = []\n",
    "    \n",
    "    #get the img_set\n",
    "    for i in range(n):\n",
    "        img = dataset[i].reshape(32,32)\n",
    "        img_mat.append(img)\n",
    "    \n",
    "    #RET:\n",
    "    #initial total information , the keys in dict, the img_set of dataset\n",
    "    return dataset, keys, img_mat, k"
   ]
  },
  {
   "cell_type": "code",
   "execution_count": 3,
   "metadata": {},
   "outputs": [],
   "source": [
    "def RandCents( img_set, k ):\n",
    "    init_cents_inds = []\n",
    "    n = len(img_set)\n",
    "    step = n / k\n",
    "    for i in range(n):\n",
    "        if i % step == 0:\n",
    "            init_cents_inds.append(i)\n",
    "    return init_cents_inds"
   ]
  },
  {
   "cell_type": "code",
   "execution_count": 4,
   "metadata": {},
   "outputs": [],
   "source": [
    "path = 'data/COIL20.mat'\n",
    "dataset, keys, img_set, k = LoadData( path )\n",
    "init_cents_inds = RandCents( img_set, k )"
   ]
  },
  {
   "cell_type": "code",
   "execution_count": 20,
   "metadata": {
    "scrolled": true
   },
   "outputs": [
    {
     "name": "stdout",
     "output_type": "stream",
     "text": [
      "[0.58890035 0.2971608  0.0455643  0.02978036 0.01356543]\n",
      "[0.49844463 0.23049031 0.10996301 0.06484918 0.03697636]\n",
      "9.23322295269449\n"
     ]
    },
    {
     "data": {
      "image/png": "[encoded data removed]",
      "text/plain": [
       "<Figure size 720x576 with 2 Axes>"
      ]
     },
     "metadata": {},
     "output_type": "display_data"
    }
   ],
   "source": [
    "#for PCA, the result is not good\n",
    "img0 = img_set[0]\n",
    "plt.subplot(121)\n",
    "plt.imshow(img0)\n",
    "pca = PCA( n_components = 5 )\n",
    "pca.fit(img0)\n",
    "print( pca.explained_variance_ratio_ )\n",
    "mat0 = pca.transform( img0 )\n",
    "#print( mat0 )\n",
    "\n",
    "img1 = img_set[144]\n",
    "plt.subplot(122)\n",
    "plt.imshow(img1)\n",
    "pca = PCA( n_components = 5 )\n",
    "pca.fit(img1)\n",
    "print( pca.explained_variance_ratio_ )\n",
    "mat1 = pca.transform( img1 )\n",
    "#print( mat1 )\n",
    "\n",
    "print( np.sqrt( np.sum( np.power(mat1-mat0, 2) ) ) )\n",
    "plt.show()"
   ]
  },
  {
   "cell_type": "code",
   "execution_count": 25,
   "metadata": {},
   "outputs": [],
   "source": [
    "def sift_trans( img, path, ip ):\n",
    "    \n",
    "    img = cv2.normalize( img, None, 0, 255, cv2.NORM_MINMAX, cv2.CV_8U )\n",
    "    cv2.imwrite( path.format(ip), img )\n",
    "    img = cv2.imread( path.format(ip), 0 )\n",
    "    sift = cv2.xfeatures2d.SIFT_create()\n",
    "    kps, des = sift.detectAndCompute( img, None )\n",
    "    return kps, des"
   ]
  },
  {
   "cell_type": "code",
   "execution_count": 55,
   "metadata": {},
   "outputs": [],
   "source": [
    "def TransShape( _mat, n, m ):\n",
    "    bg_zeros = np.zeros( (n,m) )\n",
    "    for i in range(_mat.shape[0]):\n",
    "        for j in range(_mat.shape[1]):\n",
    "            bg_zeros[i,j] = _mat[i,j]\n",
    "    return bg_zeros"
   ]
  },
  {
   "cell_type": "code",
   "execution_count": 58,
   "metadata": {},
   "outputs": [],
   "source": [
    "#nda means ndarray(numpy)\n",
    "def CalcDist( nda_a, nda_b ):\n",
    "    n = max( nda_a.shape[0], nda_b.shape[0] )\n",
    "    m = max( nda_a.shape[1], nda_b.shape[1] )\n",
    "    temp_a = TransShape( nda_a, n, m )\n",
    "    temp_b = TransShape( nda_b, n, m )\n",
    "    dist = np.sqrt( np.sum( np.power(temp_a-temp_b, 2) ) )\n",
    "    return dist"
   ]
  },
  {
   "cell_type": "code",
   "execution_count": 59,
   "metadata": {},
   "outputs": [
    {
     "data": {
      "image/png": "[encoded data removed]",
      "text/plain": [
       "<Figure size 720x576 with 3 Axes>"
      ]
     },
     "metadata": {},
     "output_type": "display_data"
    },
    {
     "name": "stdout",
     "output_type": "stream",
     "text": [
      "duck_des and duck_xf_des 1273.5764602095942\n",
      "duck_desa and car_des 1562.0848248414682\n",
      "duck_xf_des and car_des 1511.5204265903917\n"
     ]
    }
   ],
   "source": [
    "#the sift part\n",
    "_path = 'data/test_cache/{}.png'\n",
    "duck = img_set[0]\n",
    "duck_xf = img_set[40]\n",
    "car = img_set[144]\n",
    "imgs = [ duck, duck_xf, car ]\n",
    "for i in range(len(imgs)):\n",
    "    plt.subplot( 1, len(imgs), i+1 )\n",
    "    plt.imshow( imgs[i] )\n",
    "    plt.axis('off')\n",
    "plt.show()\n",
    "\n",
    "duck_kps, duck_des = sift_trans( duck, _path, 0 )\n",
    "duck_xf_kps, duck_xf_des = sift_trans( duck_xf, _path, 1 )\n",
    "car_kps, car_des = sift_trans( car, _path, 2 )\n",
    "print( 'duck_des and duck_xf_des', CalcDist( duck_des, duck_xf_des ) )\n",
    "print( 'duck_desa and car_des', CalcDist( duck_des, car_des ) )\n",
    "print( 'duck_xf_des and car_des', CalcDist( duck_xf_des, car_des ) )"
   ]
  },
  {
   "cell_type": "code",
   "execution_count": null,
   "metadata": {},
   "outputs": [],
   "source": []
  }
 ],
 "metadata": {
  "kernelspec": {
   "display_name": "Python 3",
   "language": "python",
   "name": "python3"
  },
  "language_info": {
   "codemirror_mode": {
    "name": "ipython",
    "version": 3
   },
   "file_extension": ".py",
   "mimetype": "text/x-python",
   "name": "python",
   "nbconvert_exporter": "python",
   "pygments_lexer": "ipython3",
   "version": "3.6.5"
  }
 },
 "nbformat": 4,
 "nbformat_minor": 2
}
