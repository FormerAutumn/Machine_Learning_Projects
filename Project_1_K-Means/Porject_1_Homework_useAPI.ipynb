{
 "cells": [
  {
   "cell_type": "code",
   "execution_count": 1,
   "metadata": {},
   "outputs": [],
   "source": [
    "import numpy as np\n",
    "import matplotlib.pyplot as plt\n",
    "import cv2\n",
    "import scipy.io as sio\n",
    "import sklearn\n",
    "from sklearn.cluster import KMeans\n",
    "\n",
    "%matplotlib inline\n",
    "plt.rcParams['figure.figsize'] = (10.0, 8.0) # set default size of plots\n",
    "plt.rcParams['image.interpolation'] = 'nearest'\n",
    "plt.rcParams['image.cmap'] = 'gray'"
   ]
  },
  {
   "cell_type": "code",
   "execution_count": 10,
   "metadata": {},
   "outputs": [],
   "source": [
    "def LoadData( path ):\n",
    "    \n",
    "    _mat = sio.loadmat( path )\n",
    "    keys = list( _mat.keys() )\n",
    "    dataset = _mat['fea']\n",
    "    n = dataset.shape[0]\n",
    "    init_labels = _mat['gnd']\n",
    "    k = np.max( init_labels )\n",
    "    \n",
    "    img_mat = []\n",
    "    \n",
    "    #get the img_set\n",
    "    for i in range(n):\n",
    "        img = dataset[i].reshape(32,32)\n",
    "        img_mat.append(img)\n",
    "    \n",
    "    #RET:\n",
    "    #initial total information , the keys in dict, the img_set of dataset\n",
    "    return dataset, keys, img_mat, k, init_labels"
   ]
  },
  {
   "cell_type": "code",
   "execution_count": 3,
   "metadata": {},
   "outputs": [],
   "source": [
    "def trans( img_mat ):\n",
    "    n = len( img_mat )\n",
    "    img_set = []\n",
    "    \n",
    "    for i in range(n):\n",
    "        nw = img_mat[i]\n",
    "        nw = cv2.normalize( nw, None, 0, 255, cv2.NORM_MINMAX, cv2.CV_8U )\n",
    "        cv2.imwrite( 'F:\\OpenCV3\\Learn\\COIL20/{}.png'.format(i), nw )\n",
    "        #nw = cv2.cvColor( nw, cv2.COLOR_BGR2GRAY )\n",
    "        nw = cv2.imread( 'F:\\OpenCV3\\Learn\\COIL20/{}.png'.format(i) )\n",
    "        img_set.append(nw)\n",
    "    return img_set"
   ]
  },
  {
   "cell_type": "code",
   "execution_count": 4,
   "metadata": {},
   "outputs": [],
   "source": [
    "#sth wrong\n",
    "def K_Means( img_set, cluster_k, isrand = False ):\n",
    "    \n",
    "    sift = cv2.xfeatures2d.SIFT_create()\n",
    "    features = []\n",
    "    n = len(img_set)\n",
    "    \n",
    "    for i in range(n):\n",
    "        \n",
    "        nw_gray = img_set[i]\n",
    "        kp, des = sift.detectAndCompute( nw_gray, None )\n",
    "        \n",
    "        if des is None:\n",
    "            continue\n",
    "            \n",
    "        reshape_des = des.reshape(-1,1)\n",
    "        features.append( reshape_des )\n",
    "    \n",
    "    input_fea = np.array( features )\n",
    "    input_fea = np.concatenate( input_fea, axis = 0 )\n",
    "    kmeans = KMeans( n_clusters = cluster_k, random_state = isrand ).fit( input_fea )\n",
    "    return kmeans, features\n"
   ]
  },
  {
   "cell_type": "code",
   "execution_count": 11,
   "metadata": {},
   "outputs": [],
   "source": [
    "dataURL = 'data/COIL20.mat'\n",
    "dataset, keys, img_mat, cluster_k, init_labels = LoadData( dataURL )\n",
    "img_set = trans( img_mat )\n",
    "kmeans_result, features = K_Means( img_set, cluster_k )"
   ]
  },
  {
   "cell_type": "code",
   "execution_count": 15,
   "metadata": {},
   "outputs": [],
   "source": [
    "def E_value( init_labels, lst_labels ):\n",
    "    TP = TN = FP = FN = 0\n",
    "    n = len(init_labels)\n",
    "    for i in range(n):\n",
    "        for j in range(i+1,n):\n",
    "            if init_labels[i]==init_labels[j] and lst_labels[i]==lst_labels[j]:\n",
    "                TP += 1\n",
    "            if init_labels[i]!=init_labels[j] and lst_labels[i]!=lst_labels[j]:\n",
    "                TN += 1\n",
    "            if init_labels[i]!=init_labels[j] and lst_labels[i]==lst_labels[j]:\n",
    "                FP += 1\n",
    "            if init_labels[i]==init_labels[j] and lst_labels[i]!=lst_labels[j]:\n",
    "                FN += 1\n",
    "        \n",
    "    ratio = ( TP + TN ) / ( TP + TN + FP + FN )\n",
    "    return ratio"
   ]
  },
  {
   "cell_type": "code",
   "execution_count": 17,
   "metadata": {},
   "outputs": [
    {
     "name": "stdout",
     "output_type": "stream",
     "text": [
      "0.7000656319975291\n"
     ]
    }
   ],
   "source": [
    "ratio = E_value( init_labels, kmeans_result.labels_ )\n",
    "print(ratio)"
   ]
  },
  {
   "cell_type": "code",
   "execution_count": 17,
   "metadata": {},
   "outputs": [
    {
     "name": "stdout",
     "output_type": "stream",
     "text": [
      "dict_values([1439, 1434, 1438, 1436, 1371, 1336, 1437, 1428, 1296, 1366, 1408, 1435, 1429, 1417, 1418, 1410, 1213, 851])\n"
     ]
    }
   ],
   "source": [
    "n = len(img_set)\n",
    "dic = {}\n",
    "for i in range(n):\n",
    "    dic['{}'.format(kmeans_result.labels_[i])] = i\n",
    "keyss = dic.keys()\n",
    "valuess = dic.values()\n",
    "print(valuess)"
   ]
  },
  {
   "cell_type": "code",
   "execution_count": 23,
   "metadata": {},
   "outputs": [
    {
     "name": "stdout",
     "output_type": "stream",
     "text": [
      "(1580032,)\n",
      "20\n"
     ]
    }
   ],
   "source": [
    "def check():\n",
    "    print(n, m)\n",
    "    for i in range(0,1440,72):\n",
    "        plt.subplot( 4, 5, i//72 + 1 )\n",
    "        plt.imshow(img_set[i])\n",
    "        plt.axis('off')\n",
    "    plt.show()"
   ]
  },
  {
   "cell_type": "code",
   "execution_count": 28,
   "metadata": {},
   "outputs": [
    {
     "name": "stdout",
     "output_type": "stream",
     "text": [
      "1440 32.0\n"
     ]
    },
    {
     "data": {
      "image/png": "[encoded data removed]",
      "text/plain": [
       "<Figure size 432x288 with 20 Axes>"
      ]
     },
     "metadata": {},
     "output_type": "display_data"
    }
   ],
   "source": [
    "check()"
   ]
  },
  {
   "cell_type": "code",
   "execution_count": null,
   "metadata": {},
   "outputs": [],
   "source": []
  }
 ],
 "metadata": {
  "kernelspec": {
   "display_name": "Python 3",
   "language": "python",
   "name": "python3"
  },
  "language_info": {
   "codemirror_mode": {
    "name": "ipython",
    "version": 3
   },
   "file_extension": ".py",
   "mimetype": "text/x-python",
   "name": "python",
   "nbconvert_exporter": "python",
   "pygments_lexer": "ipython3",
   "version": "3.6.5"
  }
 },
 "nbformat": 4,
 "nbformat_minor": 2
}
