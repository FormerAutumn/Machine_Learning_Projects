{
 "cells": [
  {
   "cell_type": "code",
   "execution_count": 1,
   "metadata": {},
   "outputs": [],
   "source": [
    "import numpy as np\n",
    "import matplotlib.pyplot as plt\n",
    "import cv2\n",
    "import scipy.io as sio\n",
    "from sklearn import metrics\n",
    "\n",
    "%matplotlib inline\n",
    "plt.rcParams['figure.figsize'] = (10.0, 8.0) # set default size of plots\n",
    "plt.rcParams['image.interpolation'] = 'nearest'\n",
    "plt.rcParams['image.cmap'] = 'gray'"
   ]
  },
  {
   "cell_type": "code",
   "execution_count": 2,
   "metadata": {},
   "outputs": [],
   "source": [
    "def Norm( list_x ):\n",
    "    n = len(list_x)\n",
    "    mx = 0\n",
    "    for i in range(n):\n",
    "        mx = max( mx, list_x[i].shape[0] )\n",
    "    \n",
    "    for i in range(n):\n",
    "        dif = abs( mx - list_x[i].shape[0] )\n",
    "        list_x[i] = np.r_[ list_x[i], np.zeros( ( dif,list_x[i].shape[1] ) ) ]\n",
    "\n",
    "    return list_x"
   ]
  },
  {
   "cell_type": "code",
   "execution_count": 3,
   "metadata": {},
   "outputs": [],
   "source": [
    "def GetFea( _mat ):\n",
    "    \n",
    "    _mat_fea = []\n",
    "    n = len(_mat)\n",
    "    sift = cv2.xfeatures2d.SIFT_create(200)\n",
    "    for i in range(n):\n",
    "        img_rgb = _mat[i].reshape(3,32,32)\n",
    "        r = img_rgb[0].reshape(1024,1)\n",
    "        g = img_rgb[1].reshape(1024,1)\n",
    "        b = img_rgb[2].reshape(1024,1)\n",
    "        img_rgb = np.hstack( (r,g,b) ).reshape(32,32,3)\n",
    "        img_gray = cv2.cvtColor( img_rgb, cv2.COLOR_RGB2GRAY )\n",
    "        kps, des = sift.detectAndCompute( img_gray, None )\n",
    "        if des is None:\n",
    "            des = np.zeros( (14,128) )\n",
    "        _mat_fea.append( des )\n",
    "    _mat_fea = Norm( _mat_fea )\n",
    "    #print(\"The type of _mat_fea:\", type(_mat_fea))\n",
    "    return _mat_fea"
   ]
  },
  {
   "cell_type": "code",
   "execution_count": 4,
   "metadata": {},
   "outputs": [],
   "source": [
    "#load the dataset from the local url\n",
    "def loaddata( dataurl, __gets, __result ):\n",
    "    \n",
    "    initdata = sio.loadmat( dataurl )\n",
    "    keys = list( initdata.keys() )\n",
    "    values = list( initdata.values() )\n",
    "    \n",
    "    dataset = initdata[__gets]\n",
    "    dataset_fea = GetFea( dataset )\n",
    "    \n",
    "    label = initdata[__result]\n",
    "    set_k = np.max( label )\n",
    "    \n",
    "    return initdata, dataset, set_k, label, dataset_fea"
   ]
  },
  {
   "cell_type": "code",
   "execution_count": 5,
   "metadata": {},
   "outputs": [],
   "source": [
    "#calculate the dist btw matrix_A and matrix_B\n",
    "def calcdist( Mat_A, Mat_B, i, j ):\n",
    "    \n",
    "    #print(i,j)\n",
    "    na, ma = Mat_A.shape\n",
    "    nb, mb = Mat_B.shape\n",
    "    mx = max( na, nb )\n",
    "    difa = abs( na - mx )\n",
    "    difb = abs( nb - mx )\n",
    "    now_A = np.r_[ Mat_A, np.zeros((difa,ma)) ]\n",
    "    now_B = np.r_[ Mat_B, np.zeros((difb,mb)) ]\n",
    "    \n",
    "    dis = np.sqrt( np.sum( np.power( now_A-now_B, 2 ) ) )\n",
    "    return dis"
   ]
  },
  {
   "cell_type": "code",
   "execution_count": 6,
   "metadata": {},
   "outputs": [],
   "source": [
    "def randcents( dataset, k, label ):\n",
    "    _M = []\n",
    "    initcent = []\n",
    "    cents_fea = []\n",
    "    n = dataset.shape[0]\n",
    "    for i in range(n):\n",
    "        nw = label[i]\n",
    "        flg = 0\n",
    "        for j in range(len(_M)):\n",
    "            if _M[j] == nw:\n",
    "                flg = 1\n",
    "        if flg == 0:\n",
    "            initcent.append(dataset[i])\n",
    "            _M.append(nw)\n",
    "    cents_fea = GetFea( initcent )\n",
    "    return cents_fea, initcent"
   ]
  },
  {
   "cell_type": "code",
   "execution_count": 7,
   "metadata": {},
   "outputs": [],
   "source": [
    "def K_Means( dataset, k, result_label, mx_it_tme = 15 ):\n",
    "    \n",
    "    cents_fea, cents = randcents( dataset, k, result_label )\n",
    "    #print(\"The typed of cents_fea:\", type(cents_fea))\n",
    "    init_cents_fea = cents_fea.copy()\n",
    "    dataset_fea = GetFea( dataset )\n",
    "    print(\"The len of dataset_fea\", len(dataset_fea))\n",
    "    '''\n",
    "    print(\"The init cents\")\n",
    "    print(type(cents))\n",
    "    for i in cents:\n",
    "        print(i)\n",
    "    print(\"End of check\")\n",
    "    '''\n",
    "    \n",
    "    rows, cols = dataset.shape\n",
    "    modify = True\n",
    "    #iter time\n",
    "    it_count = 0\n",
    "    #the init result [0...][0...][...]..[]\n",
    "    result_mat = np.mat( np.zeros((rows,2)) )\n",
    "    result_mat = np.full( result_mat.shape, -1 )\n",
    "    \n",
    "    while modify and it_count < mx_it_tme:\n",
    "        it_count += 1\n",
    "        modify = False\n",
    "        \n",
    "        for i in range(rows):\n",
    "            \n",
    "            mndis = np.inf\n",
    "            mnind = 0\n",
    "            \n",
    "            for j in range(k):\n",
    "                dis = calcdist( dataset_fea[i], cents_fea[j], i, j )\n",
    "                if dis < mndis:\n",
    "                    mnind = j\n",
    "                    mndis = dis\n",
    "            \n",
    "            if result_mat[i,0] != mnind:\n",
    "                modify = True\n",
    "            result_mat[i, :] = mnind, mndis**2\n",
    "            \n",
    "        for i in range(k):\n",
    "            sm = np.full( dataset_fea[0].shape, 0 )\n",
    "            flg = 0\n",
    "            for j in range(rows):\n",
    "                if result_mat[j,0] == i:\n",
    "                    sm = sm + dataset_fea[j]\n",
    "                    flg += 1\n",
    "            if flg != 0:\n",
    "                cents_fea[i] = sm / flg;\n",
    "    return cents, init_cents_fea, cents_fea, result_mat"
   ]
  },
  {
   "cell_type": "code",
   "execution_count": 8,
   "metadata": {},
   "outputs": [],
   "source": [
    "def main( filename, __gets, __result ):\n",
    "    \n",
    "    initdata, dataset, set_k, label, dataset_fea = loaddata( filename, __gets, __result )\n",
    "    \n",
    "    rows, cols = dataset.shape\n",
    "    print(rows)\n",
    "    cents, init_cents_fea, cents_fea, result_mat = K_Means( dataset, set_k, label )\n",
    "    \n",
    "    #sbhow the result of i_th cluster\n",
    "    #draw the total clusters\n",
    "\n",
    "    clusters = []\n",
    "    '''\n",
    "    clusters.append(-1)\n",
    "    for i in range(rows):\n",
    "        bel = result_mat[i,0]\n",
    "        flg = 1\n",
    "        for j in clusters:\n",
    "            if bel == j:\n",
    "                flg = 0\n",
    "        if flg:\n",
    "            clusters.append(bel)\n",
    "            img = dataset[i].reshape(32,32).T\n",
    "            plt.subplot( 4, 5, len(clusters)-1 )\n",
    "            plt.imshow(img)\n",
    "            plt.axis('off')\n",
    "    plt.show()\n",
    "    print(len(clusters)-1)\n",
    "    for i in clusters:\n",
    "        print(i, end=\" \")\n",
    "    print()\n",
    "    '''\n",
    "    return cents, result_mat, clusters, dataset_fea, cents_fea"
   ]
  },
  {
   "cell_type": "code",
   "execution_count": 9,
   "metadata": {
    "scrolled": true
   },
   "outputs": [
    {
     "name": "stdout",
     "output_type": "stream",
     "text": [
      "2000\n",
      "The len of dataset_fea 2000\n"
     ]
    }
   ],
   "source": [
    "#result test\n",
    "dataURL = ['data/COIL20.mat', 'data/Yale_32x32.mat', 'data/data_batch_1.mat']\n",
    "_gets = [ 'fea', 'data' ]\n",
    "_result = [ 'gnd', 'labels' ]\n",
    "initdata, dataset, set_k, label, dataset_fea = loaddata( dataURL[2], _gets[1], _result[1] )\n",
    "cents, result_mat, clusters, dataset_fea, cents_fea = main( dataURL[2], _gets[1], _result[1] )"
   ]
  },
  {
   "cell_type": "code",
   "execution_count": 10,
   "metadata": {},
   "outputs": [],
   "source": [
    "def brute_force_evalue( label_true, label_pred ):\n",
    "    n = len(label_true)\n",
    "    print(n)\n",
    "    ct = 0\n",
    "    for i in range(n):\n",
    "        if label_true[i] == label_pred[i]+1:\n",
    "            ct += 1\n",
    "    print(ct)\n",
    "    ratio = ct / n\n",
    "    return ratio"
   ]
  },
  {
   "cell_type": "code",
   "execution_count": 12,
   "metadata": {},
   "outputs": [
    {
     "name": "stdout",
     "output_type": "stream",
     "text": [
      "2000\n",
      "212\n",
      "0.106\n"
     ]
    }
   ],
   "source": [
    "label_true = label\n",
    "label_pred = []\n",
    "n = len(result_mat)\n",
    "for i in range(n):\n",
    "    label_pred.append( result_mat[i,0] )\n",
    "ratio = brute_force_evalue( label_true,label_pred )\n",
    "print(ratio)"
   ]
  },
  {
   "cell_type": "code",
   "execution_count": 81,
   "metadata": {},
   "outputs": [],
   "source": [
    "def E_value_RI( init_labels, lst_labels ):\n",
    "    TP = TN = FP = FN = 0\n",
    "    n = len(init_labels)\n",
    "    for i in range(n):\n",
    "        for j in range(i+1,n):\n",
    "            if init_labels[i]==init_labels[j] and lst_labels[i,0]==lst_labels[j,0]:\n",
    "                TP += 1\n",
    "            if init_labels[i]!=init_labels[j] and lst_labels[i,0]!=lst_labels[j,0]:\n",
    "                TN += 1\n",
    "            if init_labels[i]!=init_labels[j] and lst_labels[i,0]==lst_labels[j,0]:\n",
    "                FP += 1\n",
    "            if init_labels[i]==init_labels[j] and lst_labels[i,0]!=lst_labels[j,0]:\n",
    "                FN += 1\n",
    "        \n",
    "    ratio = ( TP + TN ) / ( TP + TN + FP + FN )\n",
    "    return ratio"
   ]
  },
  {
   "cell_type": "code",
   "execution_count": 82,
   "metadata": {},
   "outputs": [
    {
     "name": "stdout",
     "output_type": "stream",
     "text": [
      "0.7906438219109555\n"
     ]
    }
   ],
   "source": [
    "#RI_E_value\n",
    "precent = E_value_RI( label, result_mat )\n",
    "print(precent)"
   ]
  },
  {
   "cell_type": "code",
   "execution_count": 83,
   "metadata": {},
   "outputs": [
    {
     "name": "stdout",
     "output_type": "stream",
     "text": [
      "0.02535855873385356\n"
     ]
    }
   ],
   "source": [
    "#metric ecalue\n",
    "label_true = label.ravel()\n",
    "label_pred = []\n",
    "for i in range(len(result_mat)):\n",
    "    label_pred.append( result_mat[i,0] )\n",
    "ratio = metrics.adjusted_rand_score( label_true, label_pred )\n",
    "print(ratio)"
   ]
  },
  {
   "cell_type": "code",
   "execution_count": null,
   "metadata": {},
   "outputs": [],
   "source": []
  }
 ],
 "metadata": {
  "kernelspec": {
   "display_name": "Python 3",
   "language": "python",
   "name": "python3"
  },
  "language_info": {
   "codemirror_mode": {
    "name": "ipython",
    "version": 3
   },
   "file_extension": ".py",
   "mimetype": "text/x-python",
   "name": "python",
   "nbconvert_exporter": "python",
   "pygments_lexer": "ipython3",
   "version": "3.6.5"
  }
 },
 "nbformat": 4,
 "nbformat_minor": 2
}
