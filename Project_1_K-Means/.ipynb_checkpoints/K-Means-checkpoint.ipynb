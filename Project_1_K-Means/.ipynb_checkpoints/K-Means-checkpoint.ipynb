{
 "cells": [
  {
   "cell_type": "code",
   "execution_count": 3,
   "metadata": {},
   "outputs": [],
   "source": [
    "import numpy as np\n",
    "import matplotlib.pyplot as plt\n",
    "import cv2\n",
    "\n",
    "%matplotlib inline\n",
    "plt.rcParams['figure.figsize'] = (10.0, 8.0) # set default size of plots\n",
    "plt.rcParams['image.interpolation'] = 'nearest'\n",
    "plt.rcParams['image.cmap'] = 'gray'"
   ]
  },
  {
   "cell_type": "code",
   "execution_count": 4,
   "metadata": {},
   "outputs": [],
   "source": [
    "#get the dataset matrix\n",
    "def loadDataSet( filename ):\n",
    "    dataMat = []\n",
    "    with open(filename, 'rb') as f:\n",
    "        for line in f:\n",
    "            nw = list( map(float,line.decode('utf-8').strip().split('\\t')) )\n",
    "            dataMat.append(nw)\n",
    "    return dataMat\n"
   ]
  },
  {
   "cell_type": "code",
   "execution_count": 5,
   "metadata": {},
   "outputs": [],
   "source": [
    "#return the dist of vector A2B\n",
    "def distVecX2VecY( vecx, vecy ):\n",
    "    return np.sqrt( np.sum( np.power(vecx-vecy,2) ) )"
   ]
  },
  {
   "cell_type": "code",
   "execution_count": 6,
   "metadata": {},
   "outputs": [],
   "source": [
    "#calculate the center of each cluster\n",
    "def calcCent( DataSet, k ):\n",
    "    rows, cols = DataSet.shape\n",
    "    initcent = DataSet.take( np.random.choice(80,k), axis = 0 )\n",
    "    return initcent"
   ]
  },
  {
   "cell_type": "code",
   "execution_count": 7,
   "metadata": {},
   "outputs": [],
   "source": [
    "'''\n",
    "    return\n",
    "        centroids\n",
    "        cluster_result\n",
    "'''\n",
    "def K_Means( DataSet, k, mxitertme = 10 ):\n",
    "    centroids = calcCent( DataSet, k )\n",
    "    init_centroids = centroids.copy()\n",
    "    \n",
    "    rows, cols = DataSet.shape\n",
    "    cluster_result = np.mat( np.zeros((rows,2)) )\n",
    "    #\n",
    "    cluster_modify = True\n",
    "    iterct = 0\n",
    "    \n",
    "    #print(init_centroids)\n",
    "    \n",
    "    while cluster_modify and iterct < mxitertme:\n",
    "        iterct += 1\n",
    "        cluster_modify = False\n",
    "        \n",
    "        for i in range(rows):\n",
    "            mnind = 0\n",
    "            mndist = np.inf\n",
    "            for j in range(k):\n",
    "                dist = distVecX2VecY( DataSet[i,:], centroids[j,:] )\n",
    "                if dist < mndist :\n",
    "                    mndist = dist\n",
    "                    mnind = j\n",
    "            \n",
    "            if cluster_result[i,0] != mnind :\n",
    "                cluster_modify = True\n",
    "            cluster_result[i,:] = mnind, mndist**2\n",
    "        \n",
    "        for cent in range(k):\n",
    "            ptsInCluster = DataSet[np.nonzero(cluster_result[:,0].A == cent)[0]]\n",
    "            if ptsInCluster.shape[0] > 0:\n",
    "                centroids[cent, :] = np.mean( ptsInCluster, axis = 0 )\n",
    "    return centroids, cluster_result, init_centroids"
   ]
  },
  {
   "cell_type": "code",
   "execution_count": 8,
   "metadata": {},
   "outputs": [
    {
     "name": "stdout",
     "output_type": "stream",
     "text": [
      "[[-2.579316 -3.497576]\n",
      " [-3.567919  1.531611]\n",
      " [ 0.972564  2.924086]\n",
      " [-2.562539  2.884438]]\n"
     ]
    },
    {
     "data": {
      "text/plain": [
       "4"
      ]
     },
     "execution_count": 8,
     "metadata": {},
     "output_type": "execute_result"
    }
   ],
   "source": [
    "DataMat = np.mat(loadDataSet('data/testSet.txt'))\n",
    "rows, cols = np.shape(DataMat)\n",
    "set_k = 4\n",
    "centroids, cluster_result, init_centroids = K_Means( DataMat, set_k )\n",
    "clusterCt = np.shape(centroids)[0]\n",
    "clusterCt"
   ]
  },
  {
   "cell_type": "code",
   "execution_count": 38,
   "metadata": {},
   "outputs": [],
   "source": [
    "patterns = [ 'o', 'D', 'P', 's' ]\n",
    "colors = [ 'b', 'g', 'y', 'black' ]"
   ]
  },
  {
   "cell_type": "code",
   "execution_count": 58,
   "metadata": {},
   "outputs": [
    {
     "data": {
      "image/png": "[encoded data removed]",
      "text/plain": [
       "<Figure size 432x288 with 1 Axes>"
      ]
     },
     "metadata": {},
     "output_type": "display_data"
    }
   ],
   "source": [
    "fig = plt.figure()\n",
    "title = 'K-Means with k = {}'.format(set_k)\n",
    "ax = fig.add_subplot(111, title = title)\n",
    "for k in range(clusterCt):\n",
    "    ax.scatter( centroids[k,0], centroids[k,1], color='r', marker='+', linewidth=20)\n",
    "    ax.scatter( init_centroids[k,0], init_centroids[k,1], color='purple', marker='*', linewidth=10)\n",
    "    \n",
    "    for i in range(cols):\n",
    "        ptsInCluster = DataMat[np.nonzero(cluster_result[:,0].A==k)[0]]\n",
    "        ax.scatter( ptsInCluster[:,0].flatten().A[0], ptsInCluster[:,1].flatten().A[0], color=colors[k], marker=patterns[k])"
   ]
  },
  {
   "cell_type": "code",
   "execution_count": null,
   "metadata": {},
   "outputs": [],
   "source": []
  }
 ],
 "metadata": {
  "kernelspec": {
   "display_name": "Python 3",
   "language": "python",
   "name": "python3"
  },
  "language_info": {
   "codemirror_mode": {
    "name": "ipython",
    "version": 3
   },
   "file_extension": ".py",
   "mimetype": "text/x-python",
   "name": "python",
   "nbconvert_exporter": "python",
   "pygments_lexer": "ipython3",
   "version": "3.6.5"
  }
 },
 "nbformat": 4,
 "nbformat_minor": 2
}
