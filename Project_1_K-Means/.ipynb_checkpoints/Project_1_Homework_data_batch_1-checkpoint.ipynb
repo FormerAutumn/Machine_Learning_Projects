{
 "cells": [
  {
   "cell_type": "code",
   "execution_count": 1,
   "metadata": {},
   "outputs": [],
   "source": [
    "import numpy as np\n",
    "import matplotlib.pyplot as plt\n",
    "import cv2\n",
    "import scipy.io as sio\n",
    "from sklearn import metrics\n",
    "\n",
    "%matplotlib inline\n",
    "plt.rcParams['figure.figsize'] = (10.0, 8.0) # set default size of plots\n",
    "plt.rcParams['image.interpolation'] = 'nearest'\n",
    "plt.rcParams['image.cmap'] = 'gray'"
   ]
  },
  {
   "cell_type": "code",
   "execution_count": 2,
   "metadata": {},
   "outputs": [],
   "source": [
    "#load the dataset from the local url\n",
    "\n",
    "'''\n",
    "    RET:\n",
    "        initdata: the initial data without any operations\n",
    "        dataset: the image information set\n",
    "        set_k: the k we choose\n",
    "        label: the answer of cluster\n",
    "'''\n",
    "\n",
    "def loaddata( dataurl, __gets, __result ):\n",
    "    initdata = sio.loadmat( dataurl )\n",
    "    keys = list( initdata.keys() )\n",
    "    values = list( initdata.values() )\n",
    "    dataset = initdata[__gets]\n",
    "    label = initdata[__result]\n",
    "    set_k = np.max( label )\n",
    "    return initdata, dataset, set_k, label"
   ]
  },
  {
   "cell_type": "code",
   "execution_count": 3,
   "metadata": {},
   "outputs": [],
   "source": [
    "#calculate the dist btw matrix_A and matrix_B\n",
    "\n",
    "'''\n",
    "    RET:\n",
    "        dist between Mat_A and Mat_B\n",
    "'''\n",
    "def calcdist( Mat_A, Mat_B ):\n",
    "    return np.sqrt( np.sum( np.power( Mat_A-Mat_B, 2 ) ) )"
   ]
  },
  {
   "cell_type": "code",
   "execution_count": 4,
   "metadata": {},
   "outputs": [],
   "source": [
    "#choose the initial k cluster_centers\n",
    "\n",
    "'''\n",
    "    RET:\n",
    "        initcent: the k initial centers\n",
    "'''\n",
    "\n",
    "def randcents( dataset, k, label ):\n",
    "    _M = []\n",
    "    initcent = []\n",
    "    n = dataset.shape[0]\n",
    "    for i in range(n):\n",
    "        nw = label[i]\n",
    "        flg = 0\n",
    "        for j in range(len(_M)):\n",
    "            if _M[j] == nw:\n",
    "                flg = 1\n",
    "        if flg == 0:\n",
    "            initcent.append(dataset[i])\n",
    "            _M.append(nw)\n",
    "    return initcent"
   ]
  },
  {
   "cell_type": "code",
   "execution_count": 5,
   "metadata": {},
   "outputs": [],
   "source": [
    "#the function for kmeans\n",
    "\n",
    "'''\n",
    "    RET:\n",
    "        cents: the last centers we choose\n",
    "        result_mat: the cluster information of each sample\n",
    "        init_cents: the initial clusters we choose\n",
    "'''\n",
    "\n",
    "def K_Means( dataset, k, result_label, mx_it_tme = 27 ):\n",
    "    \n",
    "    #get the init_cents and copy it for loss it\n",
    "    cents = randcents( dataset, k, result_label )\n",
    "    init_cents = cents.copy()\n",
    "    \n",
    "    '''\n",
    "    print(\"The init cents\")\n",
    "    print(type(cents))\n",
    "    for i in cents:\n",
    "        print(i)\n",
    "    print(\"End of check\")\n",
    "    '''\n",
    "    #get the rows of dataset\n",
    "    rows, cols = dataset.shape\n",
    "    #modify means the centers is changed or not\n",
    "    modify = True\n",
    "    #iter time\n",
    "    it_count = 0\n",
    "    #initial the result_mat\n",
    "    #result_mat[i,0] means the cluster of i sample, result_mat[i,1] means the dist from i to it's center\n",
    "    result_mat = np.mat( np.zeros((rows,2)) )\n",
    "    result_mat = np.full( result_mat.shape, -1 )\n",
    "    \n",
    "    while modify and it_count < mx_it_tme:\n",
    "        #count the times of iterations\n",
    "        it_count += 1\n",
    "        #for every loop, wo suppose the centers is fixed\n",
    "        modify = False\n",
    "        \n",
    "        for i in range(rows):\n",
    "            \n",
    "            #mndis means the dist from i to it's center\n",
    "            mndis = np.inf\n",
    "            #mnind means the cluster which i belongs\n",
    "            mnind = 0\n",
    "            \n",
    "            #calculate the dist for i and each cluster_center( changing )\n",
    "            for j in range(k):\n",
    "                dis = calcdist( dataset[i], cents[j] )\n",
    "                #renew the mndis and dis\n",
    "                if dis < mndis:\n",
    "                    mnind = j\n",
    "                    mndis = dis\n",
    "                    \n",
    "            #cahnge the i's cluster to a more rational choice\n",
    "            if result_mat[i,0] != mnind:\n",
    "                modify = True #wo need to change the i's cluster boviously\n",
    "            #renew the result_mat[i]\n",
    "            result_mat[i, :] = mnind, mndis**2\n",
    "        \n",
    "        #renew the k clusters\n",
    "        for i in range(k):\n",
    "            #sm means the sum of dist\n",
    "            sm = np.full( dataset[0].shape, 0 )\n",
    "            flg = 0\n",
    "            for j in range(rows):\n",
    "                if result_mat[j,0] == i:\n",
    "                    sm = sm + dataset[j]\n",
    "                    flg += 1\n",
    "            #if the cluster is no empty, renew the centsdata\n",
    "            if flg != 0:\n",
    "                cents[i] = sm / flg\n",
    "        \n",
    "    return cents, result_mat, init_cents"
   ]
  },
  {
   "cell_type": "code",
   "execution_count": 8,
   "metadata": {},
   "outputs": [],
   "source": [
    "#use the api above to complete the K-Mwans\n",
    "\n",
    "'''\n",
    "    RET:\n",
    "        cents: the last cluster we choose\n",
    "        result_mat: the cluster information for each sample\n",
    "        init_cents: the initial cluster we choose\n",
    "'''\n",
    "\n",
    "def main( filename, __gets, __result ):\n",
    "    \n",
    "    initdata, dataset, set_k, label = loaddata( filename, __gets, __result )\n",
    "    \n",
    "    rows, cols = dataset.shape\n",
    "    cents, result_mat, init_cents = K_Means( dataset, set_k, label )\n",
    "\n",
    "    clusters = []\n",
    "    '''\n",
    "    clusters.append(-1)\n",
    "    for i in range(rows):\n",
    "        bel = result_mat[i,0]\n",
    "        flg = 1\n",
    "        for j in clusters:\n",
    "            if bel == j:\n",
    "                flg = 0\n",
    "        if flg:\n",
    "            clusters.append(bel)\n",
    "            img = dataset[i].reshape(32,32).T\n",
    "            plt.subplot( 4, 5, len(clusters)-1 )\n",
    "            plt.imshow(img)\n",
    "            plt.axis('off')\n",
    "    plt.show()\n",
    "    print(len(clusters)-1)\n",
    "    for i in clusters:\n",
    "        print(i, end=\" \")\n",
    "    print()\n",
    "    '''\n",
    "    return cents, result_mat, clusters, init_cents"
   ]
  },
  {
   "cell_type": "code",
   "execution_count": 9,
   "metadata": {},
   "outputs": [],
   "source": [
    "#result test\n",
    "dataURL = ['data/COIL20.mat', 'data/Yale_32x32.mat', 'data/data_batch_1.mat']\n",
    "_gets = [ 'fea', 'data' ]\n",
    "_result = [ 'gnd', 'labels' ]\n",
    "#change the index of _gets and _result for different dataset\n",
    "#this the data_batch_1 (^_^)\n",
    "initdata, dataset, set_k, label = loaddata( dataURL[2], _gets[1], _result[1] )\n",
    "cents, result_mat, clusters, init_cents = main(dataURL[2], _gets[1], _result[1] )"
   ]
  },
  {
   "cell_type": "code",
   "execution_count": 10,
   "metadata": {},
   "outputs": [],
   "source": [
    "#the RI_estimate\n",
    "def Estimate_RI( init_labels, lst_labels ):\n",
    "    TP = TN = FP = FN = 0\n",
    "    n = len(init_labels)\n",
    "    for i in range(n):\n",
    "        for j in range(i+1,n):\n",
    "            if init_labels[i]==init_labels[j] and lst_labels[i,0]==lst_labels[j,0]:\n",
    "                TP += 1\n",
    "            if init_labels[i]!=init_labels[j] and lst_labels[i,0]!=lst_labels[j,0]:\n",
    "                TN += 1\n",
    "            if init_labels[i]!=init_labels[j] and lst_labels[i,0]==lst_labels[j,0]:\n",
    "                FP += 1\n",
    "            if init_labels[i]==init_labels[j] and lst_labels[i,0]!=lst_labels[j,0]:\n",
    "                FN += 1\n",
    "        \n",
    "    ratio = ( TP + TN ) / ( TP + TN + FP + FN )\n",
    "    return ratio"
   ]
  },
  {
   "cell_type": "code",
   "execution_count": 11,
   "metadata": {},
   "outputs": [
    {
     "name": "stdout",
     "output_type": "stream",
     "text": [
      "The RI estimate: 0.8120950495049505\n"
     ]
    }
   ],
   "source": [
    "#RI_Estimate\n",
    "precent = Estimate_RI( label, result_mat )\n",
    "print(\"The RI estimate:\", precent)"
   ]
  },
  {
   "cell_type": "code",
   "execution_count": 12,
   "metadata": {},
   "outputs": [
    {
     "name": "stdout",
     "output_type": "stream",
     "text": [
      "0.04130807931248312\n"
     ]
    }
   ],
   "source": [
    "#the ARI estimate\n",
    "label_true = label.ravel()\n",
    "label_pred = []\n",
    "for i in range(len(result_mat)):\n",
    "    label_pred.append( result_mat[i,0] )\n",
    "ratio = metrics.adjusted_rand_score( label_true, label_pred )\n",
    "print(\"The ARI estimate:\", ratio)"
   ]
  },
  {
   "cell_type": "code",
   "execution_count": 12,
   "metadata": {},
   "outputs": [],
   "source": [
    "#the accuracy\n",
    "def brute_force_match( label_true, label_pred ):\n",
    "    n = len(label_true)\n",
    "    print(n)\n",
    "    ct = 0\n",
    "    for i in range(n):\n",
    "        if label_true[i] == label_pred[i]+1:\n",
    "            ct += 1\n",
    "    print(ct)\n",
    "    ratio = ct / n\n",
    "    return ratio"
   ]
  },
  {
   "cell_type": "code",
   "execution_count": 14,
   "metadata": {},
   "outputs": [
    {
     "name": "stdout",
     "output_type": "stream",
     "text": [
      "10000\n",
      "912\n",
      "The accuracy: 0.0912\n"
     ]
    }
   ],
   "source": [
    "label_true = label\n",
    "label_pred = []\n",
    "n = len(result_mat)\n",
    "for i in range(n):\n",
    "    label_pred.append( result_mat[i,0] )\n",
    "ratio = brute_force_match( label_true,label_pred )\n",
    "print(\"The accuracy:\", ratio)"
   ]
  },
  {
   "cell_type": "code",
   "execution_count": null,
   "metadata": {},
   "outputs": [],
   "source": []
  }
 ],
 "metadata": {
  "kernelspec": {
   "display_name": "Python 3",
   "language": "python",
   "name": "python3"
  },
  "language_info": {
   "codemirror_mode": {
    "name": "ipython",
    "version": 3
   },
   "file_extension": ".py",
   "mimetype": "text/x-python",
   "name": "python",
   "nbconvert_exporter": "python",
   "pygments_lexer": "ipython3",
   "version": "3.6.5"
  }
 },
 "nbformat": 4,
 "nbformat_minor": 2
}
